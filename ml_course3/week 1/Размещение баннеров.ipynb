{
 "cells": [
  {
   "cell_type": "code",
   "execution_count": 1,
   "metadata": {},
   "outputs": [],
   "source": [
    "import csv\n",
    "\n",
    "with open('checkins.dat') as dat_file, open('checkins.csv', 'w') as csv_file:\n",
    "    csv_writer = csv.writer(csv_file)\n",
    "\n",
    "    for line in dat_file:\n",
    "        row = [field.strip() for field in line.split('|')]\n",
    "        if len(row) == 6 and row[3] and row[4]:\n",
    "            csv_writer.writerow(row)"
   ]
  },
  {
   "cell_type": "code",
   "execution_count": 2,
   "metadata": {},
   "outputs": [
    {
     "data": {
      "text/html": [
       "<div>\n",
       "<style scoped>\n",
       "    .dataframe tbody tr th:only-of-type {\n",
       "        vertical-align: middle;\n",
       "    }\n",
       "\n",
       "    .dataframe tbody tr th {\n",
       "        vertical-align: top;\n",
       "    }\n",
       "\n",
       "    .dataframe thead th {\n",
       "        text-align: right;\n",
       "    }\n",
       "</style>\n",
       "<table border=\"1\" class=\"dataframe\">\n",
       "  <thead>\n",
       "    <tr style=\"text-align: right;\">\n",
       "      <th></th>\n",
       "      <th>id</th>\n",
       "      <th>user_id</th>\n",
       "      <th>venue_id</th>\n",
       "      <th>latitude</th>\n",
       "      <th>longitude</th>\n",
       "      <th>created_at</th>\n",
       "    </tr>\n",
       "  </thead>\n",
       "  <tbody>\n",
       "    <tr>\n",
       "      <th>0</th>\n",
       "      <td>984222</td>\n",
       "      <td>15824</td>\n",
       "      <td>5222</td>\n",
       "      <td>38.895112</td>\n",
       "      <td>-77.036366</td>\n",
       "      <td>2012-04-21 17:43:47</td>\n",
       "    </tr>\n",
       "    <tr>\n",
       "      <th>1</th>\n",
       "      <td>984234</td>\n",
       "      <td>44652</td>\n",
       "      <td>5222</td>\n",
       "      <td>33.800745</td>\n",
       "      <td>-84.410520</td>\n",
       "      <td>2012-04-21 17:43:43</td>\n",
       "    </tr>\n",
       "    <tr>\n",
       "      <th>2</th>\n",
       "      <td>984291</td>\n",
       "      <td>105054</td>\n",
       "      <td>5222</td>\n",
       "      <td>45.523452</td>\n",
       "      <td>-122.676207</td>\n",
       "      <td>2012-04-21 17:39:22</td>\n",
       "    </tr>\n",
       "  </tbody>\n",
       "</table>\n",
       "</div>"
      ],
      "text/plain": [
       "       id  user_id  venue_id   latitude   longitude           created_at\n",
       "0  984222    15824      5222  38.895112  -77.036366  2012-04-21 17:43:47\n",
       "1  984234    44652      5222  33.800745  -84.410520  2012-04-21 17:43:43\n",
       "2  984291   105054      5222  45.523452 -122.676207  2012-04-21 17:39:22"
      ]
     },
     "execution_count": 2,
     "metadata": {},
     "output_type": "execute_result"
    }
   ],
   "source": [
    "import pandas as pd\n",
    "df = pd.read_csv(\"checkins.csv\")\n",
    "df.head(3)"
   ]
  },
  {
   "cell_type": "code",
   "execution_count": 4,
   "metadata": {},
   "outputs": [
    {
     "data": {
      "text/plain": [
       "396634"
      ]
     },
     "execution_count": 4,
     "metadata": {},
     "output_type": "execute_result"
    }
   ],
   "source": [
    "df.shape[0]"
   ]
  },
  {
   "cell_type": "code",
   "execution_count": 3,
   "metadata": {},
   "outputs": [],
   "source": [
    "df_reduced = df.iloc[:10**5, :]"
   ]
  },
  {
   "cell_type": "code",
   "execution_count": 4,
   "metadata": {},
   "outputs": [],
   "source": [
    "from sklearn.cluster import MeanShift\n",
    "import numpy as np\n",
    "from collections import Counter"
   ]
  },
  {
   "cell_type": "code",
   "execution_count": 5,
   "metadata": {},
   "outputs": [],
   "source": [
    "clustering = MeanShift(bandwidth=0.1).fit(df_reduced.loc[:, ['latitude', 'longitude']].values)"
   ]
  },
  {
   "cell_type": "code",
   "execution_count": 6,
   "metadata": {},
   "outputs": [],
   "source": [
    "clusters_to_left = [k  for k, v in Counter(clustering.labels_).items() if (v > 15)]"
   ]
  },
  {
   "cell_type": "code",
   "execution_count": 8,
   "metadata": {},
   "outputs": [],
   "source": [
    "centers_to_left = []\n",
    "for center_lat, center_long in clustering.cluster_centers_:\n",
    "    if clustering.predict([[center_lat, center_long]])[0] in clusters_to_left:\n",
    "            centers_to_left.append([center_lat, center_long])"
   ]
  },
  {
   "cell_type": "code",
   "execution_count": 9,
   "metadata": {},
   "outputs": [],
   "source": [
    "office_locations = np.array([[33.751277, -118.188740], #(Los Angeles)\n",
    "                             [25.867736, -80.324116],# (Miami)\n",
    "                             [51.503016, -0.075479],# (London)\n",
    "                             [52.378894, 4.885084], #(Amsterdam)\n",
    "                             [39.366487, 117.036146],# (Beijing)\n",
    "                             [-33.868457, 151.205134]])#(Sydney)"
   ]
  },
  {
   "cell_type": "code",
   "execution_count": 27,
   "metadata": {},
   "outputs": [],
   "source": [
    "best_points=np.ndarray(shape=(0,2))\n",
    "dist=[]\n",
    "for point in centers_to_left:\n",
    "    best_dist=1000000\n",
    "    best_point = None\n",
    "    \n",
    "    for office in office_locations:\n",
    "        d = np.sqrt((point[0]-office[0])**2+(point[1]-office[1])**2)\n",
    "        if d<best_dist:\n",
    "            best_dist=d\n",
    "            best_point = point\n",
    "    dist.append(best_dist)\n",
    "    best_points = np.vstack([best_points, best_point])\n",
    "\n",
    "dist = np.array(dist)\n",
    "idxs = np.argsort(dist)[:20]"
   ]
  },
  {
   "cell_type": "code",
   "execution_count": 30,
   "metadata": {},
   "outputs": [
    {
     "name": "stdout",
     "output_type": "stream",
     "text": [
      "dist=0.007835; -33.860630,151.204776\n",
      "dist=0.009353; 52.372964,4.892317\n",
      "dist=0.022674; 25.845672,-80.318891\n",
      "dist=0.050058; 51.502991,-0.125537\n",
      "dist=0.070848; 33.809878,-118.148924\n",
      "dist=0.134109; 25.785812,-80.217938\n",
      "dist=0.167406; 25.705350,-80.283429\n",
      "dist=0.188876; 26.010098,-80.199991\n",
      "dist=0.195779; 33.888325,-118.048928\n",
      "dist=0.211811; 33.872986,-118.362091\n",
      "dist=0.222233; 33.972575,-118.168371\n",
      "dist=0.271301; 26.138844,-80.334347\n",
      "dist=0.294979; 33.983936,-118.007405\n",
      "dist=0.302270; 26.120863,-80.158907\n",
      "dist=0.304731; 33.817306,-117.891249\n",
      "dist=0.314884; 34.060398,-118.248709\n",
      "dist=0.338810; 33.674303,-117.858789\n",
      "dist=0.340846; 26.200585,-80.250716\n",
      "dist=0.378688; 34.035487,-118.438998\n",
      "dist=0.386706; 34.131460,-118.118012\n"
     ]
    }
   ],
   "source": [
    "points=np.array(centers_to_left)\n",
    "for point,dis in zip(best_points[idxs], dist[idxs]):\n",
    "    print(\"dist=%f; %f,%f\" % (dis, point[0], point[1]))"
   ]
  },
  {
   "cell_type": "code",
   "execution_count": 35,
   "metadata": {},
   "outputs": [],
   "source": [
    "with open(\"ans.txt\", \"w\") as f:\n",
    "    f.write(\"-33.860630 151.204776\")"
   ]
  },
  {
   "cell_type": "code",
   "execution_count": null,
   "metadata": {},
   "outputs": [],
   "source": []
  }
 ],
 "metadata": {
  "kernelspec": {
   "display_name": "Python 3",
   "language": "python",
   "name": "python3"
  }
 },
 "nbformat": 4,
 "nbformat_minor": 2
}
