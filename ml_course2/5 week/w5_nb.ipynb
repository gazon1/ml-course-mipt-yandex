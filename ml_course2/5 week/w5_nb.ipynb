{
 "cells": [
  {
   "cell_type": "code",
   "execution_count": 5,
   "metadata": {},
   "outputs": [],
   "source": [
    "from sklearn import model_selection, datasets, naive_bayes\n",
    "\n",
    "import numpy as np\n",
    "import pandas as pd"
   ]
  },
  {
   "cell_type": "code",
   "execution_count": 6,
   "metadata": {},
   "outputs": [
    {
     "name": "stdout",
     "output_type": "stream",
     "text": [
      "Populating the interactive namespace from numpy and matplotlib\n"
     ]
    }
   ],
   "source": [
    "%pylab inline"
   ]
  },
  {
   "cell_type": "code",
   "execution_count": 7,
   "metadata": {},
   "outputs": [],
   "source": [
    "digits = datasets.load_digits()\n",
    "X_d = digits.data\n",
    "y_d = digits.target\n",
    "\n",
    "breast_cancer = datasets.load_breast_cancer()\n",
    "X_b = breast_cancer.data\n",
    "y_b = breast_cancer.target"
   ]
  },
  {
   "cell_type": "code",
   "execution_count": 8,
   "metadata": {},
   "outputs": [],
   "source": [
    "random.seed(0)\n",
    "np.random.seed(0)\n",
    "bern = naive_bayes.BernoulliNB()\n",
    "multi = naive_bayes.MultinomialNB()\n",
    "gaus = naive_bayes.GaussianNB()"
   ]
  },
  {
   "cell_type": "code",
   "execution_count": 10,
   "metadata": {},
   "outputs": [
    {
     "name": "stdout",
     "output_type": "stream",
     "text": [
      "Digits score Bernulli = 0.83\n",
      "Digits score Multinomial = 0.87\n",
      "Digits score Gaussian = 0.82\n"
     ]
    },
    {
     "name": "stderr",
     "output_type": "stream",
     "text": [
      "/home/max/.local/lib/python3.6/site-packages/sklearn/model_selection/_split.py:2053: FutureWarning: You should specify a value for 'cv' instead of relying on the default value. The default value will change from 3 to 5 in version 0.22.\n",
      "  warnings.warn(CV_WARNING, FutureWarning)\n",
      "/home/max/.local/lib/python3.6/site-packages/sklearn/model_selection/_split.py:2053: FutureWarning: You should specify a value for 'cv' instead of relying on the default value. The default value will change from 3 to 5 in version 0.22.\n",
      "  warnings.warn(CV_WARNING, FutureWarning)\n",
      "/home/max/.local/lib/python3.6/site-packages/sklearn/model_selection/_split.py:2053: FutureWarning: You should specify a value for 'cv' instead of relying on the default value. The default value will change from 3 to 5 in version 0.22.\n",
      "  warnings.warn(CV_WARNING, FutureWarning)\n"
     ]
    }
   ],
   "source": [
    "score_d_bern = model_selection.cross_val_score(bern, X_d, y_d).mean()\n",
    "print(\"Digits score Bernulli = %.2f\" % score_d_bern)\n",
    "score_d_multi = model_selection.cross_val_score(multi, X_d, y_d).mean()\n",
    "print(\"Digits score Multinomial = %.2f\" % score_d_multi)\n",
    "score_d_gaus = model_selection.cross_val_score(gaus, X_d, y_d).mean()\n",
    "print(\"Digits score Gaussian = %.2f\" % score_d_gaus)"
   ]
  },
  {
   "cell_type": "code",
   "execution_count": 12,
   "metadata": {},
   "outputs": [
    {
     "name": "stdout",
     "output_type": "stream",
     "text": [
      "Breast Cancer score Bernulli = 0.63\n",
      "Breast Cancer score Multinomial = 0.89\n",
      "Breast Cancer score Gaussian = 0.94\n"
     ]
    },
    {
     "name": "stderr",
     "output_type": "stream",
     "text": [
      "/home/max/.local/lib/python3.6/site-packages/sklearn/model_selection/_split.py:2053: FutureWarning: You should specify a value for 'cv' instead of relying on the default value. The default value will change from 3 to 5 in version 0.22.\n",
      "  warnings.warn(CV_WARNING, FutureWarning)\n",
      "/home/max/.local/lib/python3.6/site-packages/sklearn/model_selection/_split.py:2053: FutureWarning: You should specify a value for 'cv' instead of relying on the default value. The default value will change from 3 to 5 in version 0.22.\n",
      "  warnings.warn(CV_WARNING, FutureWarning)\n",
      "/home/max/.local/lib/python3.6/site-packages/sklearn/model_selection/_split.py:2053: FutureWarning: You should specify a value for 'cv' instead of relying on the default value. The default value will change from 3 to 5 in version 0.22.\n",
      "  warnings.warn(CV_WARNING, FutureWarning)\n"
     ]
    }
   ],
   "source": [
    "score_b_bern = model_selection.cross_val_score(bern, X_b, y_b).mean()\n",
    "print(\"Breast Cancer score Bernulli = %.2f\" % score_b_bern)\n",
    "score_b_multi = model_selection.cross_val_score(multi, X_b, y_b).mean()\n",
    "print(\"Breast Cancer score Multinomial = %.2f\" % score_b_multi)\n",
    "score_b_gaus = model_selection.cross_val_score(gaus, X_b, y_b).mean()\n",
    "print(\"Breast Cancer score Gaussian = %.2f\" % score_b_gaus)"
   ]
  },
  {
   "cell_type": "code",
   "execution_count": 18,
   "metadata": {},
   "outputs": [],
   "source": [
    "b_max = np.max([score_b_bern, score_b_multi, score_d_gaus])\n",
    "d_max = np.max([score_d_bern, score_d_multi, score_d_gaus])\n",
    "\n",
    "with open('nb_ans1.txt', 'w') as f_out:\n",
    "        f_out.write(str(b_max))\n",
    "        \n",
    "with open('nb_ans2.txt', 'w') as f_out:\n",
    "        f_out.write(str(d_max))"
   ]
  },
  {
   "cell_type": "markdown",
   "metadata": {
    "collapsed": true
   },
   "source": [
    "Выберите верные утверждения и запишите их номера через пробел (в порядке возрастания номера):\n",
    "\n",
    "1) На вещественных признаках лучше всего сработал наивный байесовский классификатор с распределением Бернулли\n",
    "\n",
    "2) На вещественных признаках лучше всего сработал наивный байесовский классификатор с мультиномиальным распределением\n",
    "\n",
    "3) Мультиномиальное распределение лучше показало себя на выборке с целыми неотрицательными значениями признаков\n",
    "\n",
    "4) На вещественных признаках лучше всего сработало нормальное распределение"
   ]
  },
  {
   "cell_type": "code",
   "execution_count": 17,
   "metadata": {},
   "outputs": [],
   "source": [
    "with open('nb_ans3.txt', 'w') as f:\n",
    "    f.write(\" \".join([str(i) for i in [3, 4]]))"
   ]
  }
 ],
 "metadata": {
  "kernelspec": {
   "display_name": "Python 3",
   "language": "python",
   "name": "python3"
  },
  "language_info": {
   "codemirror_mode": {
    "name": "ipython",
    "version": 3
   },
   "file_extension": ".py",
   "mimetype": "text/x-python",
   "name": "python",
   "nbconvert_exporter": "python",
   "pygments_lexer": "ipython3",
   "version": "3.6.7"
  }
 },
 "nbformat": 4,
 "nbformat_minor": 1
}
