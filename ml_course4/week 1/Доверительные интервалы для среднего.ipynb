{
 "cells": [
  {
   "cell_type": "code",
   "execution_count": 5,
   "metadata": {},
   "outputs": [],
   "source": [
    "import numpy as np\n",
    "from statsmodels.stats.weightstats import _zconfint_generic, _tconfint_generic\n",
    "import pandas as pd"
   ]
  },
  {
   "cell_type": "code",
   "execution_count": 2,
   "metadata": {},
   "outputs": [
    {
     "name": "stdout",
     "output_type": "stream",
     "text": [
      "location\ttown\tmortality\thardness\r",
      "\r\n",
      "South\tBath\t1247\t105\r",
      "\r\n",
      "North\tBirkenhead\t1668\t17\r",
      "\r\n",
      "South\tBirmingham\t1466\t5\r",
      "\r\n",
      "North\tBlackburn\t1800\t14\r",
      "\r\n"
     ]
    }
   ],
   "source": [
    "!head -n 5 water.txt"
   ]
  },
  {
   "cell_type": "code",
   "execution_count": 34,
   "metadata": {},
   "outputs": [
    {
     "data": {
      "text/html": [
       "<div>\n",
       "<style scoped>\n",
       "    .dataframe tbody tr th:only-of-type {\n",
       "        vertical-align: middle;\n",
       "    }\n",
       "\n",
       "    .dataframe tbody tr th {\n",
       "        vertical-align: top;\n",
       "    }\n",
       "\n",
       "    .dataframe thead th {\n",
       "        text-align: right;\n",
       "    }\n",
       "</style>\n",
       "<table border=\"1\" class=\"dataframe\">\n",
       "  <thead>\n",
       "    <tr style=\"text-align: right;\">\n",
       "      <th></th>\n",
       "      <th>location</th>\n",
       "      <th>town</th>\n",
       "      <th>mortality</th>\n",
       "      <th>hardness</th>\n",
       "    </tr>\n",
       "  </thead>\n",
       "  <tbody>\n",
       "    <tr>\n",
       "      <th>0</th>\n",
       "      <td>South</td>\n",
       "      <td>Bath</td>\n",
       "      <td>1247.0</td>\n",
       "      <td>105.0</td>\n",
       "    </tr>\n",
       "    <tr>\n",
       "      <th>1</th>\n",
       "      <td>North</td>\n",
       "      <td>Birkenhead</td>\n",
       "      <td>1668.0</td>\n",
       "      <td>17.0</td>\n",
       "    </tr>\n",
       "    <tr>\n",
       "      <th>2</th>\n",
       "      <td>South</td>\n",
       "      <td>Birmingham</td>\n",
       "      <td>1466.0</td>\n",
       "      <td>5.0</td>\n",
       "    </tr>\n",
       "  </tbody>\n",
       "</table>\n",
       "</div>"
      ],
      "text/plain": [
       "  location        town  mortality  hardness\n",
       "0    South        Bath     1247.0     105.0\n",
       "1    North  Birkenhead     1668.0      17.0\n",
       "2    South  Birmingham     1466.0       5.0"
      ]
     },
     "execution_count": 34,
     "metadata": {},
     "output_type": "execute_result"
    }
   ],
   "source": [
    "data = []\n",
    "with open(\"water.txt\", \"r\") as f:\n",
    "    for line in f:\n",
    "        line = line.split()\n",
    "        if len(line) == 5:\n",
    "            line = [line[0], \" \".join([line[1], line[2]]), line[3], line[4]]\n",
    "        data.append(line)\n",
    "\n",
    "data = pd.DataFrame(data[1:], columns=data[0])\n",
    "data.mortality = data.mortality.astype(float)\n",
    "data.hardness = data.hardness.astype(float)\n",
    "data.head(3)"
   ]
  },
  {
   "cell_type": "markdown",
   "metadata": {},
   "source": [
    "# 95% доверительные интервалы для годовой смертности для северных и южных городов"
   ]
  },
  {
   "cell_type": "code",
   "execution_count": 55,
   "metadata": {},
   "outputs": [
    {
     "name": "stdout",
     "output_type": "stream",
     "text": [
      "95% conf. int. for mean annual mortality: (1476.0833413552848, 1572.2117406119285)\n",
      "1476.0833\n"
     ]
    }
   ],
   "source": [
    "select = data.mortality\n",
    "std = select.std(ddof=1) / np.sqrt(len(select))\n",
    "conf_int = _tconfint_generic(select.mean(), std, len(select) - 1, 0.05, 'two-sided')\n",
    "print(\"95% conf. int. for mean annual mortality:\", conf_int)\n",
    "print(round(conf_int[0], 4))"
   ]
  },
  {
   "cell_type": "code",
   "execution_count": 64,
   "metadata": {},
   "outputs": [
    {
     "name": "stdout",
     "output_type": "stream",
     "text": [
      "95% conf. int. for mean annual mortality (only south cities): (1320.1517462936238, 1433.463638321761)\n",
      "1433.4636\n"
     ]
    }
   ],
   "source": [
    "select = data[data.location == 'South'].mortality\n",
    "std = select.std(ddof=1) / np.sqrt(len(select))\n",
    "conf_int = _tconfint_generic(select.mean(), std, len(select) - 1, 0.05, 'two-sided')\n",
    "print(\"95% conf. int. for mean annual mortality (only south cities):\", conf_int)\n",
    "print(round(conf_int[1], 4))"
   ]
  },
  {
   "cell_type": "code",
   "execution_count": 58,
   "metadata": {},
   "outputs": [
    {
     "name": "stdout",
     "output_type": "stream",
     "text": [
      "95% conf. int. for mean annual mortality (only North cities): (1586.5605251961385, 1680.6394748038613)\n"
     ]
    }
   ],
   "source": [
    "select = data[data.location == 'North'].mortality\n",
    "std = select.std(ddof=1) / np.sqrt(len(select))\n",
    "conf_int = _tconfint_generic(select.mean(), std, len(select) - 1, 0.05, 'two-sided')\n",
    "print(\"95% conf. int. for mean annual mortality (only North cities):\", conf_int)"
   ]
  },
  {
   "cell_type": "markdown",
   "metadata": {},
   "source": [
    "# 95% доверительные интервалы для жесткости воды для северных и южных городов"
   ]
  },
  {
   "cell_type": "code",
   "execution_count": 60,
   "metadata": {},
   "outputs": [
    {
     "name": "stdout",
     "output_type": "stream",
     "text": [
      "95% conf. int. for hardness of water (only North cities): (21.42248728572426, 39.37751271427574)\n"
     ]
    }
   ],
   "source": [
    "select = data[data.location == 'North'].hardness\n",
    "std = select.std(ddof=1) / np.sqrt(len(select))\n",
    "conf_int = _tconfint_generic(select.mean(), std, len(select) - 1, 0.05, 'two-sided')\n",
    "print(\"95% conf. int. for hardness of water (only North cities):\", conf_int)"
   ]
  },
  {
   "cell_type": "code",
   "execution_count": 61,
   "metadata": {},
   "outputs": [
    {
     "name": "stdout",
     "output_type": "stream",
     "text": [
      "95% conf. int. for hardness of water (only south cities): (53.467198692036106, 86.07126284642544)\n"
     ]
    }
   ],
   "source": [
    "select = data[data.location == 'South'].hardness\n",
    "std = select.std(ddof=1) / np.sqrt(len(select))\n",
    "conf_int = _tconfint_generic(select.mean(), std, len(select) - 1, 0.05, 'two-sided')\n",
    "print(\"95% conf. int. for hardness of water (only south cities):\", conf_int)"
   ]
  },
  {
   "cell_type": "markdown",
   "metadata": {},
   "source": [
    "#### Вспомним формулу доверительного интервала для среднего нормально распределённой случайной величины с дисперсией σ2: При σ=1 какой нужен объём выборки, чтобы на уровне доверия 95% оценить среднее с точностью ±0.1?\n"
   ]
  },
  {
   "cell_type": "code",
   "execution_count": 65,
   "metadata": {},
   "outputs": [
    {
     "data": {
      "text/plain": [
       "753.0"
      ]
     },
     "execution_count": 65,
     "metadata": {},
     "output_type": "execute_result"
    }
   ],
   "source": [
    "from scipy import stats\n",
    "np.ceil((stats.norm.ppf(1-0.05/2) / 0.01)**2 * 0.02 * 0.98)"
   ]
  },
  {
   "cell_type": "code",
   "execution_count": 63,
   "metadata": {},
   "outputs": [
    {
     "data": {
      "text/plain": [
       "1.959963984540054"
      ]
     },
     "execution_count": 63,
     "metadata": {},
     "output_type": "execute_result"
    }
   ],
   "source": [
    "stats.norm.ppf(1-0.05/2)"
   ]
  },
  {
   "cell_type": "code",
   "execution_count": null,
   "metadata": {},
   "outputs": [],
   "source": []
  }
 ],
 "metadata": {
  "kernelspec": {
   "display_name": "Python 3",
   "language": "python",
   "name": "python3"
  },
  "language_info": {
   "codemirror_mode": {
    "name": "ipython",
    "version": 3
   },
   "file_extension": ".py",
   "mimetype": "text/x-python",
   "name": "python",
   "nbconvert_exporter": "python",
   "pygments_lexer": "ipython3",
   "version": "3.6.7"
  }
 },
 "nbformat": 4,
 "nbformat_minor": 2
}
